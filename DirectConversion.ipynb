{
 "cells": [
  {
   "cell_type": "markdown",
   "id": "05f2cf04-1165-4dcb-8902-25e27ddbef4a",
   "metadata": {},
   "source": [
    "# Data Exploration"
   ]
  },
  {
   "cell_type": "code",
   "execution_count": 23,
   "id": "da355432-5dce-4624-900e-dede218b66c0",
   "metadata": {},
   "outputs": [
    {
     "name": "stdout",
     "output_type": "stream",
     "text": [
      "Index(['yummy', 'convenient', 'spicy', 'fattening', 'greasy', 'fast', 'cheap',\n",
      "       'tasty', 'expensive', 'healthy', 'disgusting', 'Like', 'Age',\n",
      "       'VisitFrequency', 'Gender'],\n",
      "      dtype='object')\n"
     ]
    }
   ],
   "source": [
    "import pandas as pd\n",
    "\n",
    "# Load the dataset\n",
    "data=pd.read_csv('mcdonalds.csv')\n",
    "\n",
    "# Display column names\n",
    "print(data.columns)"
   ]
  },
  {
   "cell_type": "code",
   "execution_count": 24,
   "id": "a4c77b4f-c578-4e8a-80af-3513cc268373",
   "metadata": {},
   "outputs": [
    {
     "name": "stdout",
     "output_type": "stream",
     "text": [
      "Number of rows and columns: (1453, 15)\n"
     ]
    }
   ],
   "source": [
    "# Display dimensions\n",
    "print(\"Number of rows and columns:\", data.shape)"
   ]
  },
  {
   "cell_type": "code",
   "execution_count": 25,
   "id": "40505254-409f-44fc-9ff3-69d5ef7c5021",
   "metadata": {},
   "outputs": [
    {
     "data": {
      "text/html": [
       "<div>\n",
       "<style scoped>\n",
       "    .dataframe tbody tr th:only-of-type {\n",
       "        vertical-align: middle;\n",
       "    }\n",
       "\n",
       "    .dataframe tbody tr th {\n",
       "        vertical-align: top;\n",
       "    }\n",
       "\n",
       "    .dataframe thead th {\n",
       "        text-align: right;\n",
       "    }\n",
       "</style>\n",
       "<table border=\"1\" class=\"dataframe\">\n",
       "  <thead>\n",
       "    <tr style=\"text-align: right;\">\n",
       "      <th></th>\n",
       "      <th>yummy</th>\n",
       "      <th>convenient</th>\n",
       "      <th>spicy</th>\n",
       "      <th>fattening</th>\n",
       "      <th>greasy</th>\n",
       "      <th>fast</th>\n",
       "      <th>cheap</th>\n",
       "      <th>tasty</th>\n",
       "      <th>expensive</th>\n",
       "      <th>healthy</th>\n",
       "      <th>disgusting</th>\n",
       "      <th>Like</th>\n",
       "      <th>Age</th>\n",
       "      <th>VisitFrequency</th>\n",
       "      <th>Gender</th>\n",
       "    </tr>\n",
       "  </thead>\n",
       "  <tbody>\n",
       "    <tr>\n",
       "      <th>0</th>\n",
       "      <td>No</td>\n",
       "      <td>Yes</td>\n",
       "      <td>No</td>\n",
       "      <td>Yes</td>\n",
       "      <td>No</td>\n",
       "      <td>Yes</td>\n",
       "      <td>Yes</td>\n",
       "      <td>No</td>\n",
       "      <td>Yes</td>\n",
       "      <td>No</td>\n",
       "      <td>No</td>\n",
       "      <td>-3</td>\n",
       "      <td>61</td>\n",
       "      <td>Every three months</td>\n",
       "      <td>Female</td>\n",
       "    </tr>\n",
       "    <tr>\n",
       "      <th>1</th>\n",
       "      <td>Yes</td>\n",
       "      <td>Yes</td>\n",
       "      <td>No</td>\n",
       "      <td>Yes</td>\n",
       "      <td>Yes</td>\n",
       "      <td>Yes</td>\n",
       "      <td>Yes</td>\n",
       "      <td>Yes</td>\n",
       "      <td>Yes</td>\n",
       "      <td>No</td>\n",
       "      <td>No</td>\n",
       "      <td>+2</td>\n",
       "      <td>51</td>\n",
       "      <td>Every three months</td>\n",
       "      <td>Female</td>\n",
       "    </tr>\n",
       "    <tr>\n",
       "      <th>2</th>\n",
       "      <td>No</td>\n",
       "      <td>Yes</td>\n",
       "      <td>Yes</td>\n",
       "      <td>Yes</td>\n",
       "      <td>Yes</td>\n",
       "      <td>Yes</td>\n",
       "      <td>No</td>\n",
       "      <td>Yes</td>\n",
       "      <td>Yes</td>\n",
       "      <td>Yes</td>\n",
       "      <td>No</td>\n",
       "      <td>+1</td>\n",
       "      <td>62</td>\n",
       "      <td>Every three months</td>\n",
       "      <td>Female</td>\n",
       "    </tr>\n",
       "    <tr>\n",
       "      <th>3</th>\n",
       "      <td>Yes</td>\n",
       "      <td>Yes</td>\n",
       "      <td>No</td>\n",
       "      <td>Yes</td>\n",
       "      <td>Yes</td>\n",
       "      <td>Yes</td>\n",
       "      <td>Yes</td>\n",
       "      <td>Yes</td>\n",
       "      <td>No</td>\n",
       "      <td>No</td>\n",
       "      <td>Yes</td>\n",
       "      <td>+4</td>\n",
       "      <td>69</td>\n",
       "      <td>Once a week</td>\n",
       "      <td>Female</td>\n",
       "    </tr>\n",
       "    <tr>\n",
       "      <th>4</th>\n",
       "      <td>No</td>\n",
       "      <td>Yes</td>\n",
       "      <td>No</td>\n",
       "      <td>Yes</td>\n",
       "      <td>Yes</td>\n",
       "      <td>Yes</td>\n",
       "      <td>Yes</td>\n",
       "      <td>No</td>\n",
       "      <td>No</td>\n",
       "      <td>Yes</td>\n",
       "      <td>No</td>\n",
       "      <td>+2</td>\n",
       "      <td>49</td>\n",
       "      <td>Once a month</td>\n",
       "      <td>Male</td>\n",
       "    </tr>\n",
       "  </tbody>\n",
       "</table>\n",
       "</div>"
      ],
      "text/plain": [
       "  yummy convenient spicy fattening greasy fast cheap tasty expensive healthy  \\\n",
       "0    No        Yes    No       Yes     No  Yes   Yes    No       Yes      No   \n",
       "1   Yes        Yes    No       Yes    Yes  Yes   Yes   Yes       Yes      No   \n",
       "2    No        Yes   Yes       Yes    Yes  Yes    No   Yes       Yes     Yes   \n",
       "3   Yes        Yes    No       Yes    Yes  Yes   Yes   Yes        No      No   \n",
       "4    No        Yes    No       Yes    Yes  Yes   Yes    No        No     Yes   \n",
       "\n",
       "  disgusting Like  Age      VisitFrequency  Gender  \n",
       "0         No   -3   61  Every three months  Female  \n",
       "1         No   +2   51  Every three months  Female  \n",
       "2         No   +1   62  Every three months  Female  \n",
       "3        Yes   +4   69         Once a week  Female  \n",
       "4         No   +2   49        Once a month    Male  "
      ]
     },
     "execution_count": 25,
     "metadata": {},
     "output_type": "execute_result"
    }
   ],
   "source": [
    "data.head()"
   ]
  },
  {
   "cell_type": "markdown",
   "id": "52d4fedb-23c6-4d86-ad52-3da7d3f9382a",
   "metadata": {},
   "source": [
    "We will check the average value of each transformed segementation variable."
   ]
  },
  {
   "cell_type": "code",
   "execution_count": 26,
   "id": "e326f0ae-132a-43c0-a9d4-29484ed50d82",
   "metadata": {},
   "outputs": [
    {
     "name": "stdout",
     "output_type": "stream",
     "text": [
      "Rounded column means:\n",
      "yummy         0.55\n",
      "convenient    0.91\n",
      "spicy         0.09\n",
      "fattening     0.87\n",
      "greasy        0.53\n",
      "fast          0.90\n",
      "cheap         0.60\n",
      "tasty         0.64\n",
      "expensive     0.36\n",
      "healthy       0.20\n",
      "disgusting    0.24\n",
      "dtype: float64\n"
     ]
    }
   ],
   "source": [
    "import numpy as np\n",
    "# Select columns and convert to numeric\n",
    "MD_x = data.iloc[:, :11].apply(lambda x: (x == \"Yes\").astype(int))\n",
    "\n",
    "# Calculate column means and round to two decimal places\n",
    "col_means = np.round(MD_x.mean(), 2)\n",
    "\n",
    "print(\"Rounded column means:\")\n",
    "print(col_means)"
   ]
  },
  {
   "cell_type": "markdown",
   "id": "53fc1c72-541d-4b1a-8908-d1181d7e9dba",
   "metadata": {},
   "source": [
    "Applying Principle component Analysis"
   ]
  },
  {
   "cell_type": "code",
   "execution_count": 27,
   "id": "78c4b680-d035-4aaa-9e80-256ec25fec5f",
   "metadata": {},
   "outputs": [
    {
     "name": "stdout",
     "output_type": "stream",
     "text": [
      "Requirement already satisfied: pydataset in /opt/conda/lib/python3.10/site-packages (0.2.0)\n",
      "Requirement already satisfied: pandas in /opt/conda/lib/python3.10/site-packages (from pydataset) (1.5.2)\n",
      "Requirement already satisfied: python-dateutil>=2.8.1 in /opt/conda/lib/python3.10/site-packages (from pandas->pydataset) (2.8.2)\n",
      "Requirement already satisfied: pytz>=2020.1 in /opt/conda/lib/python3.10/site-packages (from pandas->pydataset) (2022.6)\n",
      "Requirement already satisfied: numpy>=1.21.0 in /opt/conda/lib/python3.10/site-packages (from pandas->pydataset) (1.23.5)\n",
      "Requirement already satisfied: six>=1.5 in /opt/conda/lib/python3.10/site-packages (from python-dateutil>=2.8.1->pandas->pydataset) (1.16.0)\n",
      "Note: you may need to restart the kernel to use updated packages.\n"
     ]
    }
   ],
   "source": [
    "pip install pydataset\n"
   ]
  },
  {
   "cell_type": "code",
   "execution_count": 28,
   "id": "56b611eb-da2f-4413-948e-b1a4e2b69d59",
   "metadata": {},
   "outputs": [
    {
     "name": "stdout",
     "output_type": "stream",
     "text": [
      "Standard deviation of PCA components:\n",
      "[0.76 0.61 0.5  0.4  0.34 0.31 0.29 0.28 0.27 0.25 0.24]\n",
      "\n",
      "Proportion of variance explained by each component:\n",
      "[0.3  0.19 0.13 0.08 0.06 0.05 0.04 0.04 0.04 0.03 0.03]\n"
     ]
    }
   ],
   "source": [
    "\n",
    "from pydataset import data\n",
    "from sklearn.decomposition import PCA\n",
    "from sklearn.preprocessing import StandardScaler\n",
    "\n",
    "\n",
    "# Perform PCA\n",
    "pca = PCA()\n",
    "MD_pca = pca.fit_transform(MD_x)\n",
    "\n",
    "# Print summary\n",
    "print(\"Standard deviation of PCA components:\")\n",
    "print(np.round(np.sqrt(pca.explained_variance_), 2))\n",
    "print(\"\\nProportion of variance explained by each component:\")\n",
    "print(np.round(pca.explained_variance_ratio_, 2))\n"
   ]
  },
  {
   "cell_type": "code",
   "execution_count": 11,
   "id": "876471ac-6df3-42f7-b0b5-dec7f8820bbc",
   "metadata": {},
   "outputs": [
    {
     "name": "stdout",
     "output_type": "stream",
     "text": [
      "PCA results (rounded to 1 decimal place):\n",
      "       0    1    2    3    4    5    6    7    8    9    10\n",
      "0     0.4 -0.2  0.7 -0.4  0.2 -0.4 -0.2  0.2  0.2  0.5 -0.6\n",
      "1    -0.2  0.4 -0.7 -0.1  0.0 -0.1 -0.1 -0.0  0.1  0.5 -0.5\n",
      "2     0.4  0.7 -0.1  0.7  0.8 -0.7  0.6  0.4 -0.3  0.1  0.2\n",
      "3    -0.2 -0.4 -0.8  0.2 -0.7 -0.0 -0.1 -0.2 -0.0 -0.3 -0.1\n",
      "4     0.2 -0.8  0.0  0.5  0.9 -0.1 -0.5  0.2 -0.1  0.0  0.1\n",
      "...   ...  ...  ...  ...  ...  ...  ...  ...  ...  ...  ...\n",
      "1448  1.6  0.3 -0.0  0.2 -0.1  0.3 -0.1  0.3 -0.1 -0.4 -0.5\n",
      "1449 -1.0  0.0  0.3  0.4 -0.1  0.4 -0.3  0.9 -0.3 -0.2 -0.2\n",
      "1450 -0.2  1.1  0.2 -0.5 -0.2 -0.2 -0.1 -0.0  0.0  0.1 -0.0\n",
      "1451 -1.2 -0.0  0.6  0.7  0.0  0.2 -0.0 -0.3  0.0 -0.0 -0.1\n",
      "1452  1.6  0.3 -0.0  0.2 -0.1  0.3 -0.1  0.3 -0.1 -0.4 -0.5\n",
      "\n",
      "[1453 rows x 11 columns]\n"
     ]
    }
   ],
   "source": [
    "# Perform PCA\n",
    "pca = PCA()\n",
    "MD_pca = pca.fit_transform(MD_x)\n",
    "\n",
    "# Print summary with specified digits\n",
    "print(\"PCA results (rounded to 1 decimal place):\")\n",
    "print(pd.DataFrame(MD_pca).round(1))"
   ]
  },
  {
   "cell_type": "code",
   "execution_count": 13,
   "id": "bad68ac1-c1bc-4a7e-9c96-1fbb2d85478c",
   "metadata": {},
   "outputs": [
    {
     "data": {
      "image/png": "[encoded data removed]",
      "text/plain": [
       "<Figure size 800x600 with 1 Axes>"
      ]
     },
     "metadata": {},
     "output_type": "display_data"
    },
    {
     "name": "stdout",
     "output_type": "stream",
     "text": [
      "PCA components:\n",
      "[[-0.47693349 -0.15533159 -0.00635636  0.11623168  0.3044427  -0.10849325\n",
      "  -0.33718593 -0.47151394  0.32904173 -0.21371062  0.37475293]\n",
      " [ 0.36378978  0.016414    0.01880869 -0.03409395 -0.06383884 -0.0869722\n",
      "  -0.61063276  0.3073178   0.60128596  0.07659344 -0.13965633]\n",
      " [-0.30444402 -0.0625153  -0.03701866 -0.32235949 -0.80237317 -0.06464172\n",
      "  -0.14931026 -0.28726479  0.02439661  0.19205128 -0.08857138]\n",
      " [ 0.0551622  -0.14242496  0.19761927 -0.35413876  0.2539601  -0.09736269\n",
      "   0.11895823 -0.00254696  0.06781599  0.76348804  0.36953871]\n",
      " [-0.30753507  0.27760805  0.07062017 -0.07340475  0.36139895  0.10793025\n",
      "  -0.12897259 -0.21089912 -0.00312457  0.28784553 -0.72920859]\n",
      " [ 0.17073819 -0.34783006 -0.3550866  -0.40651542  0.20934711 -0.59463206\n",
      "  -0.10324067 -0.07691443 -0.26134151 -0.17822612 -0.21087805]\n",
      " [-0.28051863 -0.05973793  0.70763705 -0.38594277  0.03616962 -0.08684577\n",
      "  -0.04044934  0.36045348 -0.06838452 -0.34961569 -0.02679159]\n",
      " [ 0.01304117 -0.11307868  0.37593402  0.58962241 -0.13824084 -0.62779877\n",
      "   0.14006047 -0.07279193  0.02953939  0.17630281 -0.16718101]\n",
      " [ 0.57240278 -0.01846534  0.40027977 -0.16051227 -0.00284738  0.16619659\n",
      "   0.07606907 -0.63908592  0.06699639 -0.1855722  -0.07248255]\n",
      " [-0.11028437 -0.66581756 -0.07563413 -0.00533813  0.00870725  0.23953197\n",
      "   0.42808739  0.0791838   0.45439925 -0.03811713 -0.28959188]\n",
      " [ 0.04543901 -0.54161635  0.14172992  0.25090987  0.00164229  0.33926454\n",
      "  -0.48928285  0.01955226 -0.49006853  0.15760765 -0.04066227]]\n"
     ]
    }
   ],
   "source": [
    "import matplotlib.pyplot as plt\n",
    "pca = PCA()\n",
    "MD_pca = pca.fit_transform(MD_x)\n",
    "\n",
    "# Plot PCA results\n",
    "plt.figure(figsize=(8, 6))\n",
    "plt.scatter(MD_pca[:, 0], MD_pca[:, 1], color='grey')\n",
    "plt.title('PCA Plot')\n",
    "plt.xlabel('PC1')\n",
    "plt.ylabel('PC2')\n",
    "plt.grid(True)\n",
    "plt.show()\n",
    "\n",
    "# Display projection axes\n",
    "print(\"PCA components:\")\n",
    "print(pca.components_)"
   ]
  },
  {
   "cell_type": "code",
   "execution_count": 15,
   "id": "ad9a4ebb-e380-4a27-b648-7b01f4be915d",
   "metadata": {},
   "outputs": [
    {
     "name": "stdout",
     "output_type": "stream",
     "text": [
      "Cluster labels (relabeled):\n",
      "[1 0 2 ... 2 0 2]\n"
     ]
    }
   ],
   "source": [
    "from sklearn.cluster import KMeans\n",
    "# Set seed for reproducibility (optional in scikit-learn)\n",
    "np.random.seed(1234)\n",
    "\n",
    "# Perform K-means clustering\n",
    "results = {}\n",
    "for k in range(2, 9):\n",
    "    kmeans = KMeans(n_clusters=k, n_init=10, random_state=0)\n",
    "    kmeans.fit(MD_x)\n",
    "    results[k] = kmeans.labels_\n",
    "\n",
    "# Choose the best K based on your criteria (e.g., elbow method, silhouette score, etc.)\n",
    "best_k = 3  # Example: choosing k=3 based on results\n",
    "\n",
    "# Relabel clusters (if needed)\n",
    "labels = results[best_k]  # Replace with the appropriate k value from results\n",
    "\n",
    "# Print the cluster labels\n",
    "print(\"Cluster labels (relabeled):\")\n",
    "print(labels)"
   ]
  },
  {
   "cell_type": "code",
   "execution_count": 16,
   "id": "838981f7-9fb5-4941-ae7b-6ef51b2d5c3c",
   "metadata": {},
   "outputs": [
    {
     "data": {
      "image/png": "[encoded data removed]",
      "text/plain": [
       "<Figure size 800x600 with 1 Axes>"
      ]
     },
     "metadata": {},
     "output_type": "display_data"
    }
   ],
   "source": [
    "# Set seed for reproducibility (optional in scikit-learn)\n",
    "np.random.seed(1234)\n",
    "\n",
    "# Initialize empty list to store inertia values (within-cluster sum of squares)\n",
    "inertia = []\n",
    "\n",
    "# Iterate over a range of cluster numbers\n",
    "for k in range(2, 9):\n",
    "    kmeans = KMeans(n_clusters=k, n_init=10, random_state=0)\n",
    "    kmeans.fit(MD_x)\n",
    "    inertia.append(kmeans.inertia_)  # Sum of squared distances of samples to their closest cluster center\n",
    "\n",
    "# Plot the inertia values\n",
    "plt.figure(figsize=(8, 6))\n",
    "plt.plot(range(2, 9), inertia, marker='o')\n",
    "plt.title('Elbow Plot for K-means Clustering')\n",
    "plt.xlabel('Number of Clusters')\n",
    "plt.ylabel('Within-cluster Sum of Squares (Inertia)')\n",
    "plt.grid(True)\n",
    "plt.show()"
   ]
  },
  {
   "cell_type": "code",
   "execution_count": 18,
   "id": "d29572d8-7d0f-4067-b178-9056fc099130",
   "metadata": {},
   "outputs": [
    {
     "name": "stdout",
     "output_type": "stream",
     "text": [
      "Example: Cluster labels for k=3 (bootstrap sample 1):\n",
      "[0 0 2 ... 1 1 0]\n"
     ]
    }
   ],
   "source": [
    "from sklearn.utils import resample\n",
    "# Number of bootstrap samples\n",
    "n_bootstrap = 100\n",
    "\n",
    "# Initialize a list to store results\n",
    "bootstrap_results = {}\n",
    "\n",
    "# Perform bootstrapping\n",
    "for k in range(2, 9):\n",
    "    kmeans_results = []\n",
    "    for _ in range(n_bootstrap):\n",
    "        # Create bootstrap sample\n",
    "        bootstrap_sample = resample(MD_x, replace=True, random_state=_)\n",
    "        \n",
    "        # Perform K-means clustering\n",
    "        kmeans = KMeans(n_clusters=k, n_init=10, random_state=0)\n",
    "        kmeans.fit(bootstrap_sample)\n",
    "        \n",
    "        # Store cluster labels\n",
    "        kmeans_results.append(kmeans.labels_)\n",
    "    \n",
    "    # Store results for this value of k\n",
    "    bootstrap_results[k] = kmeans_results\n",
    "\n",
    "# Example: Accessing results for k=3\n",
    "print(\"Example: Cluster labels for k=3 (bootstrap sample 1):\")\n",
    "print(bootstrap_results[3][0])\n"
   ]
  },
  {
   "cell_type": "code",
   "execution_count": null,
   "id": "fe34b161-8832-48ea-a310-05de98de5854",
   "metadata": {},
   "outputs": [],
   "source": []
  }
 ],
 "metadata": {
  "kernelspec": {
   "display_name": "Python 3 (ipykernel)",
   "language": "python",
   "name": "python3"
  },
  "language_info": {
   "codemirror_mode": {
    "name": "ipython",
    "version": 3
   },
   "file_extension": ".py",
   "mimetype": "text/x-python",
   "name": "python",
   "nbconvert_exporter": "python",
   "pygments_lexer": "ipython3",
   "version": "3.10.8"
  }
 },
 "nbformat": 4,
 "nbformat_minor": 5
}
